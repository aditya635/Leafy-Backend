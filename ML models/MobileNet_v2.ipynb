{
  "cells": [
    {
      "cell_type": "code",
      "execution_count": null,
      "id": "58291b4f",
      "metadata": {
        "id": "58291b4f"
      },
      "outputs": [],
      "source": [
        "import tensorflow as tf\n",
        "print(tf.__version__)\n",
        "\n",
        "import random\n",
        "import numpy as np\n",
        "import pandas as pd\n",
        "from tensorflow.keras import models\n",
        "from tensorflow.keras import layers\n",
        "from tensorflow.keras import regularizers\n",
        "from keras.callbacks import ModelCheckpoint \n",
        "from sklearn import metrics  \n",
        "import time\n",
        "\n",
        "import keras\n",
        "\n",
        "import matplotlib.pyplot as plt\n",
        "import helper\n",
        "\n",
        "from keras.models import Model,Sequential\n",
        "from keras.layers import Input\n",
        "from keras.layers.core import Dropout,Flatten,Dense\n",
        "from keras.layers.convolutional import Conv2D,MaxPooling2D\n",
        "from keras.callbacks import EarlyStopping,ModelCheckpoint\n",
        "\n",
        "from sklearn.metrics import confusion_matrix,classification_report\n",
        "from keras.applications.densenet import DenseNet201\n",
        "from keras.applications.resnet import ResNet152\n",
        "\n",
        "from keras.preprocessing.image import ImageDataGenerator"
      ]
    },
    {
      "cell_type": "code",
      "source": [
        "from google.colab import files\n",
        "files.upload()"
      ],
      "metadata": {
        "id": "x_sHypC4idCl"
      },
      "id": "x_sHypC4idCl",
      "execution_count": null,
      "outputs": []
    },
    {
      "cell_type": "code",
      "source": [
        "import zipfile\n",
        "import os\n",
        "\n",
        "os.environ['KAGGLE_CONFIG_DIR'] = \"/content\""
      ],
      "metadata": {
        "id": "aLSS9JhkjIJJ"
      },
      "id": "aLSS9JhkjIJJ",
      "execution_count": null,
      "outputs": []
    },
    {
      "cell_type": "code",
      "source": [
        "!kaggle datasets download -d vipoooool/new-plant-diseases-dataset"
      ],
      "metadata": {
        "id": "X8m3Qtq4janm"
      },
      "id": "X8m3Qtq4janm",
      "execution_count": null,
      "outputs": []
    },
    {
      "cell_type": "code",
      "source": [
        "zip_ref = zipfile.ZipFile('new-plant-diseases-dataset.zip', 'r') \n",
        "zip_ref.extractall('/content')\n",
        "zip_ref.close()"
      ],
      "metadata": {
        "id": "Sb5z0pamk6-P"
      },
      "id": "Sb5z0pamk6-P",
      "execution_count": null,
      "outputs": []
    },
    {
      "cell_type": "code",
      "execution_count": null,
      "id": "d4f6ace1",
      "metadata": {
        "id": "d4f6ace1"
      },
      "outputs": [],
      "source": [
        "import os\n",
        "data_dir = \"/content/new plant diseases dataset(augmented)/New Plant Diseases Dataset(Augmented)\"\n",
        "train_dir = data_dir + \"/train\"\n",
        "valid_dir = data_dir + \"/valid\"\n",
        "diseases = os.listdir(train_dir)\n",
        "diseases"
      ]
    },
    {
      "cell_type": "code",
      "execution_count": null,
      "id": "9f5387df",
      "metadata": {
        "id": "9f5387df"
      },
      "outputs": [],
      "source": [
        "print(\"Total classification classes : {}\".format(len(diseases)))"
      ]
    },
    {
      "cell_type": "code",
      "execution_count": null,
      "id": "04937077",
      "metadata": {
        "id": "04937077"
      },
      "outputs": [],
      "source": [
        "from keras.preprocessing.image import ImageDataGenerator\n",
        "train_datagen_aug = ImageDataGenerator(rescale = 1./255,\n",
        "                                   shear_range = 0.2,\n",
        "                                   zoom_range = 0.2,\n",
        "                                   rotation_range = 20,\n",
        "                                   horizontal_flip = True)\n",
        "\n",
        "test_datagen_aug = ImageDataGenerator( rescale = 1./255,\n",
        "                                   shear_range = 0.2,\n",
        "                                   zoom_range = 0.2,\n",
        "                                   rotation_range = 20,\n",
        "                                   horizontal_flip = True)"
      ]
    },
    {
      "cell_type": "code",
      "execution_count": null,
      "id": "8c61cab4",
      "metadata": {
        "id": "8c61cab4"
      },
      "outputs": [],
      "source": [
        "training_set_aug = train_datagen_aug.flow_from_directory(directory= train_dir,\n",
        "                                               target_size=(224, 224), \n",
        "                                               batch_size=50,\n",
        "                                               class_mode='categorical') \n",
        "label_map = (training_set_aug.class_indices)\n",
        "print(\"Target Classes Mapping Dict:\\n\")\n",
        "print(label_map)\n",
        "\n",
        "test_set_aug = test_datagen_aug.flow_from_directory(directory= valid_dir,\n",
        "                                               target_size=(224, 224), \n",
        "                                               batch_size=50,\n",
        "                                               class_mode='categorical',\n",
        "                                               shuffle=False)"
      ]
    },
    {
      "cell_type": "code",
      "execution_count": null,
      "id": "d4114472",
      "metadata": {
        "id": "d4114472"
      },
      "outputs": [],
      "source": [
        "callback = tf.keras.callbacks.EarlyStopping(monitor='val_loss', min_delta=0.0025, patience=2, verbose=1)"
      ]
    },
    {
      "cell_type": "code",
      "execution_count": null,
      "id": "df3c15e1",
      "metadata": {
        "id": "df3c15e1"
      },
      "outputs": [],
      "source": [
        "from keras.applications.resnet import ResNet50\n",
        "from keras.applications.densenet import DenseNet201\n",
        "from tensorflow.keras.layers import Conv2D, Input, Dense, BatchNormalization, MaxPool2D, GlobalAveragePooling2D,Dropout\n",
        "from tensorflow.keras import Model\n",
        "\n",
        "base_model = tf.keras.applications.mobilenet_v2.MobileNetV2(include_top=False,\n",
        "                         input_shape=(224,224,3),\n",
        "                         weights='imagenet',\n",
        "                         pooling=\"avg\"\n",
        "                     )\n",
        "\n",
        "base_model.trainable = False\n",
        "image_input = Input(shape=(224, 224, 3))\n",
        "\n",
        "x = base_model(image_input,training = False)\n",
        "\n",
        "x = Dense(256,activation = \"relu\")(x)\n",
        "x = Dropout(0.2)(x)\n",
        "\n",
        "x = Dense(128,activation = \"relu\")(x)\n",
        "x = Dropout(0.2)(x)\n",
        "\n",
        "image_output = Dense(38,activation=\"softmax\")(x)\n",
        "\n",
        "model = Model(image_input,image_output)"
      ]
    },
    {
      "cell_type": "code",
      "execution_count": null,
      "id": "5a6a96e3",
      "metadata": {
        "scrolled": true,
        "id": "5a6a96e3"
      },
      "outputs": [],
      "source": [
        "model.compile(optimizer=\"adam\",loss=\"categorical_crossentropy\",metrics=[\"accuracy\"])\n",
        "print(model.summary())"
      ]
    },
    {
      "cell_type": "code",
      "execution_count": null,
      "id": "e32d0e6d",
      "metadata": {
        "id": "e32d0e6d"
      },
      "outputs": [],
      "source": [
        "hist = model.fit(training_set_aug, epochs=20, validation_data=test_set_aug, callbacks=[callback])"
      ]
    },
    {
      "cell_type": "code",
      "execution_count": null,
      "id": "95365238",
      "metadata": {
        "id": "95365238"
      },
      "outputs": [],
      "source": [
        ""
      ]
    }
  ],
  "metadata": {
    "kernelspec": {
      "display_name": "Python 3",
      "language": "python",
      "name": "python3"
    },
    "language_info": {
      "codemirror_mode": {
        "name": "ipython",
        "version": 3
      },
      "file_extension": ".py",
      "mimetype": "text/x-python",
      "name": "python",
      "nbconvert_exporter": "python",
      "pygments_lexer": "ipython3",
      "version": "3.8.8"
    },
    "colab": {
      "name": "Model Testing.ipynb",
      "provenance": [],
      "collapsed_sections": [],
      "private_outputs": true
    },
    "accelerator": "GPU"
  },
  "nbformat": 4,
  "nbformat_minor": 5
}